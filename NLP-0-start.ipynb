{
 "cells": [
  {
   "cell_type": "code",
   "execution_count": null,
   "metadata": {},
   "outputs": [],
   "source": [
    "# 在深度学习和NLP中使用Pytorch\n",
    "\n",
    "# 本文带您进入pytorch框架进行深度学习编程的核心思想。Pytorch的很多概念(比如计算图抽象和自动求导)并非它所独有的,\n",
    "# 和其他深度学习框架相关。\n",
    "\n",
    "# 我写这篇教程是专门针对那些从未用任何深度学习框架(例如：Tensorflow, Theano, Keras, Dynet)编写代码而从事NLP领域的人。\n",
    "# 我假设你已经知道NLP领域要解决的核心问题：词性标注、语言模型等等。我也认为你通过AI这本书中所讲的知识熟悉了神经网络达到了入门的级别。 \n",
    "# 通常这些课程都会介绍反向传播算法和前馈神经网络，并指出它们是线性组合和非线性组合构成的链。\n",
    "# 本文在假设你已经有了这些知识的情况下，教你如何开始写深度学习代码。\n",
    "\n",
    "# 注意这篇文章主要关于_models_，而不是数据。对于所有的模型，我只创建一些数据维度较小的测试示例以便你可以看到权重在训练过程中\n",
    "# 如何变化。如果你想要尝试一些真实数据，您有能力删除本示例中的模型并重新训练他们。\n",
    "\n",
    "# * PyTorch简介： 无\n",
    "# * 使用PyTorch进行深度学习： https://github.com/fendouai/PyTorchDocs/blob/master/FifthSection/DL_with_PyTorch.md\n",
    "# * 词嵌入：编码形式的词汇语义： https://github.com/fendouai/PyTorchDocs/blob/master/FifthSection/Word_Embedding.md\n",
    "# * 序列模型和长短句记忆（LSTM）模型： 序列模型和长短句记忆（LSTM）模型\n",
    "# * 高级：制定动态决策和BI-LSTM CRF： 制定动态决策和BI-LSTM CRF\n",
    "\n"
   ]
  }
 ],
 "metadata": {
  "kernelspec": {
   "display_name": "Python 3",
   "language": "python",
   "name": "python3"
  },
  "language_info": {
   "codemirror_mode": {
    "name": "ipython",
    "version": 3
   },
   "file_extension": ".py",
   "mimetype": "text/x-python",
   "name": "python",
   "nbconvert_exporter": "python",
   "pygments_lexer": "ipython3",
   "version": "3.7.2"
  }
 },
 "nbformat": 4,
 "nbformat_minor": 2
}
