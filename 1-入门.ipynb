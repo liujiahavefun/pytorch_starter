{
 "cells": [
  {
   "cell_type": "code",
   "execution_count": 1,
   "metadata": {
    "collapsed": true
   },
   "outputs": [],
   "source": [
    "from __future__ import print_function\n",
    "import torch"
   ]
  },
  {
   "cell_type": "code",
   "execution_count": 2,
   "metadata": {},
   "outputs": [
    {
     "name": "stdout",
     "output_type": "stream",
     "text": [
      "tensor([[6.6284e-10, 1.0471e-11, 2.6512e-09],\n",
      "        [1.0431e-08, 6.7367e-10, 6.3078e-10],\n",
      "        [1.6504e-07, 1.6765e+22, 4.0335e-11],\n",
      "        [4.2330e+21, 1.6534e+19, 3.0478e+32],\n",
      "        [2.5704e+38, 4.5780e-41, 0.0000e+00]])\n"
     ]
    }
   ],
   "source": [
    "#Tensors 类似于 NumPy 的 ndarrays ，同时 Tensors 可以使用 GPU 进行计算。\n",
    "#构造一个5x3矩阵，不初始化, torch.empty生成指定维数的空矩阵，但是浮点的零仅仅是接近真正的零而已\n",
    "x = torch.empty(5, 3)\n",
    "print(x)"
   ]
  },
  {
   "cell_type": "code",
   "execution_count": 31,
   "metadata": {},
   "outputs": [
    {
     "name": "stdout",
     "output_type": "stream",
     "text": [
      "均匀分布 x3: tensor([[0.2769, 0.9593, 0.2887],\n",
      "        [0.2878, 0.7441, 0.4703],\n",
      "        [0.6810, 0.4147, 0.3314],\n",
      "        [0.1262, 0.9629, 0.2363],\n",
      "        [0.0380, 0.7453, 0.2864]])\n",
      "tensor([[0.3104, 0.2282, 0.6397],\n",
      "        [0.7013, 0.8593, 0.9675],\n",
      "        [0.2672, 0.7682, 0.1052],\n",
      "        [0.9259, 0.9995, 0.9305],\n",
      "        [0.6098, 0.2131, 0.6972]])\n",
      "标准正态分布 x3: tensor([[ 0.5366,  0.5383, -1.1500],\n",
      "        [ 0.7291, -0.6663, -0.6069],\n",
      "        [-1.1433, -0.6153,  0.0955],\n",
      "        [ 0.4989, -0.3611, -0.6227],\n",
      "        [-0.0511, -1.1925,  0.9378]])\n",
      "零值 x4: tensor([[0, 0, 0],\n",
      "        [0, 0, 0],\n",
      "        [0, 0, 0]])\n",
      "线性间距向量 x5: tensor([ 3.0000,  4.7500,  6.5000,  8.2500, 10.0000])\n",
      "tensor([1, 2, 3, 4, 5])\n",
      "<class 'torch.Tensor'>\n"
     ]
    },
    {
     "ename": "TypeError",
     "evalue": "normal() received an invalid combination of arguments - got (std=Tensor, dtype=torch.dtype, mean=Tensor, ), but expected one of:\n * (Tensor mean, Tensor std, torch.Generator generator, Tensor out)\n * (Tensor mean, float std, torch.Generator generator, Tensor out)\n * (float mean, Tensor std, torch.Generator generator, Tensor out)\n * (float mean, float std, tuple of ints size, torch.Generator generator, Tensor out, torch.dtype dtype, torch.layout layout, torch.device device, bool pin_memory, bool requires_grad)\n",
     "output_type": "error",
     "traceback": [
      "\u001b[0;31m---------------------------------------------------------------------------\u001b[0m",
      "\u001b[0;31mTypeError\u001b[0m                                 Traceback (most recent call last)",
      "\u001b[0;32m<ipython-input-31-115e89f4789b>\u001b[0m in \u001b[0;36m<module>\u001b[0;34m\u001b[0m\n\u001b[1;32m     23\u001b[0m \u001b[0mprint\u001b[0m\u001b[0;34m(\u001b[0m\u001b[0mtype\u001b[0m\u001b[0;34m(\u001b[0m\u001b[0mx\u001b[0m\u001b[0;34m)\u001b[0m\u001b[0;34m)\u001b[0m\u001b[0;34m\u001b[0m\u001b[0m\n\u001b[1;32m     24\u001b[0m \u001b[0;31m#这块有错误，是不是1.2.0版本改了接口？#\u001b[0m\u001b[0;34m\u001b[0m\u001b[0;34m\u001b[0m\u001b[0m\n\u001b[0;32m---> 25\u001b[0;31m \u001b[0mx4\u001b[0m \u001b[0;34m=\u001b[0m \u001b[0mtorch\u001b[0m\u001b[0;34m.\u001b[0m\u001b[0mnormal\u001b[0m\u001b[0;34m(\u001b[0m\u001b[0mmean\u001b[0m\u001b[0;34m=\u001b[0m\u001b[0mtorch\u001b[0m\u001b[0;34m.\u001b[0m\u001b[0marange\u001b[0m\u001b[0;34m(\u001b[0m\u001b[0;36m1\u001b[0m\u001b[0;34m,\u001b[0m \u001b[0;36m6\u001b[0m\u001b[0;34m)\u001b[0m\u001b[0;34m,\u001b[0m \u001b[0mstd\u001b[0m\u001b[0;34m=\u001b[0m\u001b[0mtorch\u001b[0m\u001b[0;34m.\u001b[0m\u001b[0marange\u001b[0m\u001b[0;34m(\u001b[0m\u001b[0;36m1\u001b[0m\u001b[0;34m,\u001b[0m \u001b[0;36m6\u001b[0m\u001b[0;34m)\u001b[0m\u001b[0;34m,\u001b[0m \u001b[0mdtype\u001b[0m\u001b[0;34m=\u001b[0m\u001b[0mtorch\u001b[0m\u001b[0;34m.\u001b[0m\u001b[0mlong\u001b[0m\u001b[0;34m)\u001b[0m\u001b[0;34m\u001b[0m\u001b[0m\n\u001b[0m\u001b[1;32m     26\u001b[0m \u001b[0mprint\u001b[0m\u001b[0;34m(\u001b[0m\u001b[0;34m'离散正态分布，x4:'\u001b[0m\u001b[0;34m,\u001b[0m \u001b[0mx4\u001b[0m\u001b[0;34m)\u001b[0m\u001b[0;34m\u001b[0m\u001b[0m\n",
      "\u001b[0;31mTypeError\u001b[0m: normal() received an invalid combination of arguments - got (std=Tensor, dtype=torch.dtype, mean=Tensor, ), but expected one of:\n * (Tensor mean, Tensor std, torch.Generator generator, Tensor out)\n * (Tensor mean, float std, torch.Generator generator, Tensor out)\n * (float mean, Tensor std, torch.Generator generator, Tensor out)\n * (float mean, float std, tuple of ints size, torch.Generator generator, Tensor out, torch.dtype dtype, torch.layout layout, torch.device device, bool pin_memory, bool requires_grad)\n"
     ]
    }
   ],
   "source": [
    "#构造5*3的矩阵，随机初始化，值是[0,1]之间的均匀分布，torch.rand(*sizes, out=None) → Tensor  out是结果张量\n",
    "x1 = torch.rand(5, 3)\n",
    "print('均匀分布 x3:', x1)\n",
    "torch.rand(5, 3, out=x2)\n",
    "print(x2)\n",
    "\n",
    "#其它方式\n",
    "#torch.randn(*sizes, out=None) → Tensor   标准正态分布，均值0方差为1\n",
    "x3 = torch.randn(5,3)\n",
    "print('标准正态分布 x3:', x3)\n",
    "\n",
    "#全是零值, 且数据类型是long, 还可以是torch.float16 或者float32 float64 double，double似乎就是float64\n",
    "x4 = torch.zeros(3, 3, dtype=torch.long)\n",
    "print('零值 x4:', x4)\n",
    "\n",
    "#线性间距向量，返回[start, end]之间包括左右两端点的均匀的steps个点\n",
    "x5 = torch.linspace(3, 10, steps=5) # 返回[ 3.0000,  4.7500,  6.5000,  8.2500, 10.0000]\n",
    "print('线性间距向量 x5:', x5) \n",
    "\n",
    "#torch.normal(means, std, out=None) → → Tensor  离散正态分布\n",
    "x = torch.arange(1, 6)\n",
    "print(x)  # 返回Tensor，值是[1, 2, 3, 4, 5]，如果是torch.arange(1, 6, 2)返回[1,3,5]\n",
    "print(type(x))\n",
    "#这块有错误，是不是1.2.0版本改了接口？#\n",
    "x4 = torch.normal(mean=torch.arange(1, 6), std=torch.arange(1, 6), dtype=torch.long)\n",
    "print('离散正态分布，x4:', x4)"
   ]
  },
  {
   "cell_type": "code",
   "execution_count": 41,
   "metadata": {},
   "outputs": [
    {
     "name": "stdout",
     "output_type": "stream",
     "text": [
      "tensor([5.5000, 3.0000])\n",
      "tensor([[1., 1.]], dtype=torch.float64)\n",
      "tensor([[0.3607, 0.4669]])\n",
      "torch.Size([1, 2])\n"
     ]
    }
   ],
   "source": [
    "#直接使用数据构造tensor\n",
    "x = torch.tensor([5.5, 3])\n",
    "print(x)\n",
    "\n",
    "#创建一个tensor基于已经存在的tensor\n",
    "#不过下面这行没看出新创建和已存在的有毛关系，除了在原x上调用new_ones\n",
    "x = x.new_ones(1, 2, dtype=torch.double) # new_* methods take in sizes    \n",
    "print(x)\n",
    "\n",
    "# override dtype!   这里randn_like的第一个参数x作为size，相当于使用了x的size作为参数\n",
    "x = torch.randn_like(x, dtype=torch.float)    \n",
    "print(x)   # result has the same size                                   \n",
    "\n",
    "#返回维度信息，返回的Size是一个元组\n",
    "print(x.size()) #返回torch.Size([1, 2]) "
   ]
  },
  {
   "cell_type": "code",
   "execution_count": 52,
   "metadata": {},
   "outputs": [
    {
     "name": "stdout",
     "output_type": "stream",
     "text": [
      "x: tensor([[0.8106, 0.4636, 0.0923],\n",
      "        [0.3219, 0.4201, 0.5049]])\n",
      "y: tensor([[0.3089, 0.9511, 0.5752],\n",
      "        [0.7489, 0.0916, 0.2405]])\n",
      "x+y: tensor([[1.1195, 1.4147, 0.6676],\n",
      "        [1.0707, 0.5117, 0.7454]])\n",
      "x+y: tensor([[1.1195, 1.4147, 0.6676],\n",
      "        [1.0707, 0.5117, 0.7454]])\n",
      "tensor([[1.1195, 1.4147, 0.6676],\n",
      "        [1.0707, 0.5117, 0.7454]])\n",
      "x: tensor([[0.8106, 0.4636, 0.0923],\n",
      "        [0.3219, 0.4201, 0.5049]])\n",
      "y: tensor([[1.1195, 1.4147, 0.6676],\n",
      "        [1.0707, 0.5117, 0.7454]])\n",
      "x: tensor([[0.8106, 0.4636, 0.0923],\n",
      "        [0.3219, 0.4201, 0.5049]])\n",
      "tensor([0.4636, 0.4201])\n",
      "tensor([0.8106, 0.4636, 0.0923])\n"
     ]
    }
   ],
   "source": [
    "#tensor的加法\n",
    "x = torch.rand(2,3)\n",
    "y = torch.rand(2,3)\n",
    "print('x:', x)\n",
    "print('y:', y)\n",
    "print('x+y:', x+y)\n",
    "print('x+y:', torch.add(x, y))  #相当于x+y\n",
    "\n",
    "result = torch.empty(x.size())\n",
    "torch.add(x, y, out=result) #结果返回给result变量\n",
    "print(result)\n",
    "\n",
    "#tenson的in-place加法\n",
    "# adds x to y\n",
    "y.add_(x)  #WTF! add_ 和 add 竟然都ok，有点坑人啊\n",
    "y.add(x)\n",
    "print('x:',x)\n",
    "print('y:',y)\n",
    "#print(y.add)\n",
    "#print(y.add_)\n",
    "\n",
    "#返回tensor某个维度数据\n",
    "print('x:', x)\n",
    "print(x[:,1]) #第二列\n",
    "print(x[0,:]) #第一行"
   ]
  },
  {
   "cell_type": "code",
   "execution_count": 53,
   "metadata": {},
   "outputs": [
    {
     "name": "stdout",
     "output_type": "stream",
     "text": [
      "torch.Size([4, 4]) torch.Size([16]) torch.Size([2, 8])\n"
     ]
    }
   ],
   "source": [
    "#tensor改变大小，如果你想改变一个 tensor 的大小或者形状，你可以使用 torch.view:\n",
    "x = torch.randn(4, 4)\n",
    "y = x.view(16)\n",
    "# the size -1 is inferred from other dimensions。\n",
    "z = x.view(-1, 8)  #-1就是说此维度根据其他维度而定，这里16个元素，第二个参数是8，所以推断第一个参数应该是2\n",
    "print(x.size(), y.size(), z.size())"
   ]
  },
  {
   "cell_type": "code",
   "execution_count": 56,
   "metadata": {},
   "outputs": [
    {
     "name": "stdout",
     "output_type": "stream",
     "text": [
      "tensor([-0.0228])\n",
      "-0.022770728915929794\n",
      "tensor(-0.0228)\n",
      "tensor([-1.1385, -0.3825, -0.8426,  0.8173, -0.4972, -0.3800, -1.5992, -1.4097,\n",
      "         0.5380, -1.1813,  0.6219, -0.2905,  0.6948, -0.6373,  1.6898, -2.5792])\n",
      "tensor(-1.1385)\n"
     ]
    }
   ],
   "source": [
    "#获取值\n",
    "#如果你有一个元素 tensor ，使用 .item() 来获得这个 value 。\n",
    "x = torch.randn(1)\n",
    "print(x)\n",
    "print(x.item()) #这个返回的是值\n",
    "print(x[0]) #这个返回的还是一个tensor，为tensor(-0.0228)这样的\n",
    "\n",
    "print(y)\n",
    "print(y[0]) #返回y的第一个元素，因为y的size是[16]，即16个元素的一维向量"
   ]
  },
  {
   "cell_type": "code",
   "execution_count": null,
   "metadata": {
    "collapsed": true
   },
   "outputs": [],
   "source": []
  }
 ],
 "metadata": {
  "kernelspec": {
   "display_name": "Python [default]",
   "language": "python",
   "name": "python3"
  },
  "language_info": {
   "codemirror_mode": {
    "name": "ipython",
    "version": 3
   },
   "file_extension": ".py",
   "mimetype": "text/x-python",
   "name": "python",
   "nbconvert_exporter": "python",
   "pygments_lexer": "ipython3",
   "version": "3.6.3"
  }
 },
 "nbformat": 4,
 "nbformat_minor": 2
}
