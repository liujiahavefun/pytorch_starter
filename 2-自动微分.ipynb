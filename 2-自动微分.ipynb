{
 "cells": [
  {
   "cell_type": "code",
   "execution_count": 19,
   "metadata": {},
   "outputs": [
    {
     "name": "stdout",
     "output_type": "stream",
     "text": [
      "x: tensor([[1., 1.],\n",
      "        [1., 1.]], requires_grad=True)\n",
      "y: tensor([[3., 3.],\n",
      "        [3., 3.]], grad_fn=<AddBackward0>)\n",
      "grad_fn: <AddBackward0 object at 0x10a5c2ef0>\n",
      "z: tensor([[27., 27.],\n",
      "        [27., 27.]], grad_fn=<MulBackward0>)\n",
      "out: tensor(27., grad_fn=<MeanBackward0>)\n"
     ]
    }
   ],
   "source": [
    "# autograd 包是 PyTorch 中所有神经网络的核心。首先让我们简要地介绍它，然后我们将会去训练我们的第一个神经网络。\n",
    "# 该 autograd 软件包为 Tensors 上的所有操作提供自动微分。它是一个由运行定义的框架，这意味着以代码运行方式定义你的后向传播，\n",
    "# 并且每次迭代都可以不同。我们从 tensor 和 gradients 来举一些例子。\n",
    "\n",
    "# Tensor\n",
    "# torch.Tensor 是包的核心类。如果将其属性 .requires_grad 设置为 True，则会开始跟踪针对 tensor 的所有操作。\n",
    "# 完成计算后，您可以调用 .backward() 来自动计算所有梯度。该张量的梯度将累积到 .grad 属性中。\n",
    "\n",
    "# 要停止 tensor 历史记录的跟踪，您可以调用 .detach()，它将其与计算历史记录分离，并防止将来的计算被跟踪。\n",
    "\n",
    "# 要停止跟踪历史记录（和使用内存），您还可以将代码块使用 with torch.no_grad(): 包装起来。\n",
    "# 在评估模型时，这是特别有用，因为模型在训练阶段具有 requires_grad = True 的可训练参数有利于调参，但在评估阶段我们不需要梯度。\n",
    "\n",
    "# 还有一个类对于 autograd 实现非常重要那就是 Function。Tensor 和 Function 互相连接并构建一个非循环图，\n",
    "# 它保存整个完整的计算过程的历史信息。每个张量都有一个 .grad_fn 属性保存着创建了张量的 Function 的引用，（\n",
    "# 如果用户自己创建张量，则grad_fn 是 None ）。\n",
    "\n",
    "# 如果你想计算导数，你可以调用 Tensor.backward()。如果 Tensor 是标量（即它包含一个元素数据），\n",
    "# 则不需要指定任何参数backward()，但是如果它有更多元素，则需要指定一个gradient 参数来指定张量的形状。\n",
    "\n",
    "import torch\n",
    "x = torch.ones(2, 2, requires_grad=True) #追踪变换，准备计算梯度\n",
    "print('x:',x)\n",
    "\n",
    "#针对张量做一个操作，这里是y\n",
    "y = x + 2 #这里应该用了广播，将2加到x的每个元素上\n",
    "print('y:',y)\n",
    "print('grad_fn:', y.grad_fn)\n",
    "#针对y做更多操作\n",
    "z = y * y * 3  #y*y是按元素相乘。。。\n",
    "out = z.mean()\n",
    "print('z:',z)\n",
    "print('out:',out)"
   ]
  },
  {
   "cell_type": "code",
   "execution_count": 20,
   "metadata": {},
   "outputs": [
    {
     "name": "stdout",
     "output_type": "stream",
     "text": [
      "False\n",
      "True\n",
      "<SumBackward0 object at 0x10a5c2f60>\n"
     ]
    }
   ],
   "source": [
    "# required_grad会改变张量的 requires_grad 标记。输入的标记默认为 False ，如果没有提供相应的参数\n",
    "a = torch.randn(2, 2)\n",
    "a = ((a * 3) / (a - 1))\n",
    "print(a.requires_grad) # 默认False\n",
    "a.requires_grad_(True)  #改变为True, 似乎某个属性xxx，可以通过.xxx访问，通过 .xxx_(val)修改为新的value\n",
    "print(a.requires_grad)\n",
    "b = (a * a).sum()\n",
    "print(b.grad_fn)"
   ]
  },
  {
   "cell_type": "code",
   "execution_count": 21,
   "metadata": {},
   "outputs": [
    {
     "name": "stdout",
     "output_type": "stream",
     "text": [
      "tensor([[4.5000, 4.5000],\n",
      "        [4.5000, 4.5000]])\n"
     ]
    }
   ],
   "source": [
    "# 反向传播，因为输出包含了一个标量，out.backward() 等同于out.backward(torch.tensor(1.))\n",
    "out.backward() #out.backward(torch.tensor(1.)) #注意梯度一次运算后只能求一次，不能求多次\n",
    "#否则报错\n",
    "#RuntimeError: Trying to backward through the graph a second time, but the buffers have already been freed. \n",
    "# Specify retain_graph=True when calling backward the first time.\n",
    "\n",
    "#打印梯度\n",
    "print(x.grad)"
   ]
  },
  {
   "cell_type": "code",
   "execution_count": 24,
   "metadata": {},
   "outputs": [
    {
     "name": "stdout",
     "output_type": "stream",
     "text": [
      "tensor([ 0.3696, -1.3643,  0.0236], requires_grad=True)\n",
      "tensor([  378.5188, -1397.0284,    24.2051], grad_fn=<MulBackward0>)\n",
      "tensor([1.0240e+02, 1.0240e+03, 1.0240e-01])\n"
     ]
    }
   ],
   "source": [
    "x = torch.randn(3, requires_grad=True)\n",
    "print(x)\n",
    "y = x * 2\n",
    "while y.data.norm() < 1000:\n",
    "    y = y * 2\n",
    "\n",
    "print(y)\n",
    "\n",
    "#现在在这种情况下，y 不再是一个标量。torch.autograd 不能够直接计算整个雅可比，\n",
    "# 但是如果我们只想要雅可比向量积，只需要简单的传递向量给 backward 作为参数。\n",
    "v = torch.tensor([0.1, 1.0, 0.0001], dtype=torch.float)\n",
    "y.backward(v)\n",
    "\n",
    "print(x.grad)\n"
   ]
  },
  {
   "cell_type": "code",
   "execution_count": null,
   "metadata": {
    "collapsed": true
   },
   "outputs": [],
   "source": [
    "#你可以通过将代码包裹在 with torch.no_grad()，来停止对从跟踪历史中 的 .requires_grad=True 的张量自动求导。\n",
    "print(x.requires_grad)\n",
    "print((x ** 2).requires_grad)\n",
    "\n",
    "with torch.no_grad():\n",
    "    #在这个代码块里，requires_grad被置为False\n",
    "    print((x ** 2).requires_grad)"
   ]
  },
  {
   "cell_type": "code",
   "execution_count": null,
   "metadata": {
    "collapsed": true
   },
   "outputs": [],
   "source": []
  },
  {
   "cell_type": "code",
   "execution_count": null,
   "metadata": {
    "collapsed": true
   },
   "outputs": [],
   "source": []
  },
  {
   "cell_type": "code",
   "execution_count": null,
   "metadata": {
    "collapsed": true
   },
   "outputs": [],
   "source": []
  }
 ],
 "metadata": {
  "kernelspec": {
   "display_name": "Python [default]",
   "language": "python",
   "name": "python3"
  },
  "language_info": {
   "codemirror_mode": {
    "name": "ipython",
    "version": 3
   },
   "file_extension": ".py",
   "mimetype": "text/x-python",
   "name": "python",
   "nbconvert_exporter": "python",
   "pygments_lexer": "ipython3",
   "version": "3.6.3"
  }
 },
 "nbformat": 4,
 "nbformat_minor": 2
}
